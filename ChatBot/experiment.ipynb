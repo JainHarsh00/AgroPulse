{
 "cells": [
  {
   "cell_type": "markdown",
   "id": "f96083a9",
   "metadata": {},
   "source": [
    "# AgroPulse Chatbot"
   ]
  },
  {
   "cell_type": "code",
   "execution_count": 1,
   "id": "717fbb27",
   "metadata": {},
   "outputs": [
    {
     "data": {
      "text/plain": [
       "ChatGroq(client=<groq.resources.chat.completions.Completions object at 0x000002537593B880>, async_client=<groq.resources.chat.completions.AsyncCompletions object at 0x0000025375939420>, model_name='llama-3.3-70b-versatile', model_kwargs={}, groq_api_key=SecretStr('**********'))"
      ]
     },
     "execution_count": 1,
     "metadata": {},
     "output_type": "execute_result"
    }
   ],
   "source": [
    "import os\n",
    "from dotenv import load_dotenv\n",
    "load_dotenv()\n",
    "from langchain_groq import ChatGroq\n",
    "\n",
    "groq_api_key=os.getenv(\"GROQ_API_KEY\")\n",
    "\n",
    "llm=ChatGroq(groq_api_key=groq_api_key,model_name=\"llama-3.3-70b-versatile\")\n",
    "\n",
    "llm"
   ]
  },
  {
   "cell_type": "code",
   "execution_count": 2,
   "id": "1d197f33",
   "metadata": {},
   "outputs": [],
   "source": [
    "from dotenv import load_dotenv\n",
    "import os\n",
    "\n",
    "load_dotenv()  # loads .env variables into environment\n",
    "\n",
    "hf_token = os.getenv(\"HF_TOKEN\")\n",
    "os.environ[\"HF_TOKEN\"] = hf_token\n"
   ]
  },
  {
   "cell_type": "code",
   "execution_count": 3,
   "id": "01fceadf",
   "metadata": {},
   "outputs": [
    {
     "name": "stderr",
     "output_type": "stream",
     "text": [
      "d:\\AgroPulse\\ChatBot\\venv\\lib\\site-packages\\tqdm\\auto.py:21: TqdmWarning: IProgress not found. Please update jupyter and ipywidgets. See https://ipywidgets.readthedocs.io/en/stable/user_install.html\n",
      "  from .autonotebook import tqdm as notebook_tqdm\n"
     ]
    }
   ],
   "source": [
    "from langchain_huggingface import HuggingFaceEmbeddings\n",
    "embeddings=HuggingFaceEmbeddings(model_name=\"all-MiniLM-L6-v2\")"
   ]
  },
  {
   "cell_type": "code",
   "execution_count": 4,
   "id": "24124c73",
   "metadata": {},
   "outputs": [],
   "source": [
    "from langchain_chroma import Chroma\n",
    "from langchain_community.document_loaders import WebBaseLoader\n",
    "from langchain_core.prompts import ChatPromptTemplate\n",
    "from langchain_text_splitters import RecursiveCharacterTextSplitter\n",
    "from langchain.chains import create_retrieval_chain\n",
    "from langchain.chains.combine_documents import create_stuff_documents_chain"
   ]
  },
  {
   "cell_type": "code",
   "execution_count": 5,
   "id": "6159a4e9",
   "metadata": {},
   "outputs": [],
   "source": [
    "from bs4 import BeautifulSoup, SoupStrainer"
   ]
  },
  {
   "cell_type": "code",
   "execution_count": 6,
   "id": "f20bc7d7",
   "metadata": {},
   "outputs": [],
   "source": [
    "import bs4\n",
    "\n",
    "\n",
    "def load_web_docs(urls):\n",
    "    all_docs = []\n",
    "    for url in urls:\n",
    "        loader = WebBaseLoader(\n",
    "            web_paths=(url,),\n",
    "            bs_kwargs=dict(\n",
    "                parse_only=bs4.SoupStrainer(\n",
    "                    class_=(\"post-content\", \"post-title\", \"post-header\")\n",
    "                )\n",
    "            ),\n",
    "        )\n",
    "        docs = loader.load()\n",
    "        all_docs.extend(docs)\n",
    "    return all_docs"
   ]
  },
  {
   "cell_type": "code",
   "execution_count": 7,
   "id": "fa73f925",
   "metadata": {},
   "outputs": [
    {
     "name": "stdout",
     "output_type": "stream",
     "text": [
      "Total docs: 8\n"
     ]
    }
   ],
   "source": [
    "urls = [\n",
    "    \"https://invadeagro.com/2025/07/03/common-crop-diseases-india/\",\n",
    "    \"https://eos.com/blog/crop-diseases/\",\n",
    "    \"https://www.growag.com/highlights/article/guide-to-crop-disease-and-management\",\n",
    "    \"https://kshema.co/blogs/common-crop-diseases-and-how-to-prevent-them/\",\n",
    "    \"https://krikso.co.in/pest-and-disease-management-protecting-your-crops-effectively/\",\n",
    "    \"https://blog.plantwise.org/tag/plant-diseases/\",\n",
    "    \"https://farmonaut.com/blogs/best-farming-organic-farming-blogs-in-india\",\n",
    "    \"https://agrisearchindia.com/en/blog\"\n",
    "]\n",
    "\n",
    "docs = load_web_docs(urls)\n",
    "print(f\"Total docs: {len(docs)}\")"
   ]
  },
  {
   "cell_type": "code",
   "execution_count": 8,
   "id": "a7548fcc",
   "metadata": {},
   "outputs": [
    {
     "data": {
      "text/plain": [
       "VectorStoreRetriever(tags=['Chroma', 'HuggingFaceEmbeddings'], vectorstore=<langchain_chroma.vectorstores.Chroma object at 0x000002533305B4F0>, search_kwargs={'k': 3})"
      ]
     },
     "execution_count": 8,
     "metadata": {},
     "output_type": "execute_result"
    }
   ],
   "source": [
    "text_splitter=RecursiveCharacterTextSplitter(chunk_size=1000,chunk_overlap=200)\n",
    "splits=text_splitter.split_documents(docs)\n",
    "vectorstore=Chroma.from_documents(documents=splits,embedding=embeddings)\n",
    "retriever=vectorstore.as_retriever(search_kwargs={\"k\": 3})\n",
    "retriever"
   ]
  },
  {
   "cell_type": "code",
   "execution_count": 9,
   "id": "66a78827",
   "metadata": {},
   "outputs": [],
   "source": [
    "from langchain_core.prompts import ChatPromptTemplate, MessagesPlaceholder\n",
    "\n",
    "## Prompt Template\n",
    "system_prompt = (\n",
    "    \"You are an expert assistant for answering crop and farming questions. \"\n",
    "    \"Use the following retrieved context to answer the question. \"\n",
    "    \"If you don't know the answer, say you don't know. \"\n",
    "    \"Always respond in the same language as the user's question. \"\n",
    "    \"Provide a detailed, thorough, and informative answer, covering all relevant points. \"\n",
    "    \"Explain technical terms if needed.\\n\\n\"\n",
    "    \"{context}\"\n",
    ")\n",
    "\n",
    "prompt = ChatPromptTemplate.from_messages(\n",
    "    [\n",
    "        (\"system\", system_prompt),\n",
    "        (\"human\", \"Please answer in detail {input}\"),\n",
    "    ]\n",
    ")"
   ]
  },
  {
   "cell_type": "code",
   "execution_count": 10,
   "id": "86c6d997",
   "metadata": {},
   "outputs": [],
   "source": [
    "## Arxiv--Research\n",
    "## Tools creation\n",
    "from langchain_community.tools import ArxivQueryRun,WikipediaQueryRun\n",
    "from langchain_community.utilities import WikipediaAPIWrapper,ArxivAPIWrapper"
   ]
  },
  {
   "cell_type": "code",
   "execution_count": 11,
   "id": "184f25ac",
   "metadata": {},
   "outputs": [
    {
     "data": {
      "text/plain": [
       "'wikipedia'"
      ]
     },
     "execution_count": 11,
     "metadata": {},
     "output_type": "execute_result"
    }
   ],
   "source": [
    "api_wrapper_wiki=WikipediaAPIWrapper(top_k_results=1,doc_content_chars_max=250)\n",
    "wiki=WikipediaQueryRun(api_wrapper=api_wrapper_wiki)\n",
    "wiki.name"
   ]
  },
  {
   "cell_type": "code",
   "execution_count": 12,
   "id": "126177b0",
   "metadata": {},
   "outputs": [],
   "source": [
    "from langchain.chains import LLMMathChain\n",
    "from langchain.agents import Tool\n",
    "math_chain=LLMMathChain.from_llm(llm=llm)\n",
    "calculator=Tool(\n",
    "    name=\"Calculator\",\n",
    "    func=math_chain.run,\n",
    "    description=\"A calculator for farming math. Use this when farmers ask about quantities, costs, yields, fertilizer requirements, or any arithmetic calculation.\"\n",
    ")"
   ]
  },
  {
   "cell_type": "code",
   "execution_count": 13,
   "id": "d0a45c9a",
   "metadata": {},
   "outputs": [],
   "source": [
    "from langchain.chains import create_retrieval_chain\n",
    "from langchain.chains.combine_documents import create_stuff_documents_chain\n",
    "\n",
    "question_answer_chain = create_stuff_documents_chain(llm, prompt)\n",
    "chain = create_retrieval_chain(retriever, question_answer_chain)"
   ]
  },
  {
   "cell_type": "code",
   "execution_count": 14,
   "id": "696328a5",
   "metadata": {},
   "outputs": [
    {
     "name": "stderr",
     "output_type": "stream",
     "text": [
      "C:\\Users\\HP\\AppData\\Local\\Temp\\ipykernel_1684\\3044567815.py:23: LangChainDeprecationWarning: LangChain agents will continue to be supported, but it is recommended for new use cases to be built with LangGraph. LangGraph offers a more flexible and full-featured framework for building agents, including support for tool-calling, persistence of state, and human-in-the-loop workflows. For details, refer to the `LangGraph documentation <https://langchain-ai.github.io/langgraph/>`_ as well as guides for `Migrating from AgentExecutor <https://python.langchain.com/docs/how_to/migrate_agent/>`_ and LangGraph's `Pre-built ReAct agent <https://langchain-ai.github.io/langgraph/how-tos/create-react-agent/>`_.\n",
      "  agent = initialize_agent(\n"
     ]
    }
   ],
   "source": [
    "# Wrap retriever as a tool\n",
    "def run_qa_chain_tool(question):\n",
    "    try:\n",
    "        response = chain.invoke({\"input\": question})\n",
    "        if isinstance(response, dict) and \"result\" in response:\n",
    "            return response[\"result\"]\n",
    "        return response\n",
    "    except Exception as e:\n",
    "        return f\"An error occurred: {e}\"\n",
    "\n",
    "\n",
    "\n",
    "retriever_tool = Tool(\n",
    "    name=\"CropDocs\",\n",
    "    func=run_qa_chain_tool,\n",
    "    description=\"Useful for answering farming and crop disease questions from AgroPulse blog database\"\n",
    ")\n",
    "\n",
    "# Tools list (retriever + wiki + arxiv)\n",
    "tools = [retriever_tool, wiki, calculator]\n",
    "\n",
    "from langchain.agents import initialize_agent, Tool, AgentType\n",
    "agent = initialize_agent(\n",
    "    tools,\n",
    "    llm,   \n",
    "    agent=AgentType.ZERO_SHOT_REACT_DESCRIPTION,\n",
    "    verbose=True\n",
    ")\n"
   ]
  },
  {
   "cell_type": "code",
   "execution_count": 15,
   "id": "f24ac0d4",
   "metadata": {},
   "outputs": [
    {
     "name": "stderr",
     "output_type": "stream",
     "text": [
      "C:\\Users\\HP\\AppData\\Local\\Temp\\ipykernel_1684\\3098581047.py:1: LangChainDeprecationWarning: The method `Chain.run` was deprecated in langchain 0.1.0 and will be removed in 1.0. Use :meth:`~invoke` instead.\n",
      "  print(agent.run(\"What are the symptoms of rice blast disease?\"))\n"
     ]
    },
    {
     "name": "stdout",
     "output_type": "stream",
     "text": [
      "\n",
      "\n",
      "\u001b[1m> Entering new AgentExecutor chain...\u001b[0m\n",
      "\u001b[32;1m\u001b[1;3mTo answer this question, I need to find information about rice blast disease, which is a crop disease. The AgroPulse blog database, accessed through the CropDocs tool, is likely to have information about crop diseases, including rice blast disease.\n",
      "\n",
      "Action: CropDocs\n",
      "Action Input: rice blast disease symptoms\u001b[0m\n",
      "Observation: \u001b[36;1m\u001b[1;3m{'input': 'rice blast disease symptoms', 'context': [Document(id='7774f8d8-bf74-404b-8ecf-cc81f089b1e1', metadata={'source': 'https://kshema.co/blogs/common-crop-diseases-and-how-to-prevent-them/'}, page_content='Most common crop diseases caused by bacteria, fungi, nematodes, and virus need focused approach to contain the damage and save crops.\\nBacterial diseases \\nBlights and wilts are examples of bacterial common crop diseases. These affect plants when bacteria get into the culture’s tissue through damaged areas caused by agricultural tools, insects or unfavourable weather conditions. Infections may also occur when bacteria use natural holes or glands of plants.\\nBacterial diseases spread fast and treating the affected area is complicated since the infection is internal and therefore not exposed to chemicals. Preventive measures include using pathogen-free seeds, hot water for seed treatment, soil solarisation or using germicidal compound of seeds.\\nFungal diseases\\nFungi cause widespread plant diseases which extract a huge economic cost. Fungi mainly infects plans through wounds, stomata and water pores. Wind also plays a part by spreading fungal spores.'), Document(id='681772ed-2cac-44a5-b989-8c006a393360', metadata={'source': 'https://kshema.co/blogs/common-crop-diseases-and-how-to-prevent-them/'}, page_content='By some estimates, every year, 30% of crops worth Rs 90,000 crores are lost in India due to pests and crop diseases. Indian farmers suffer yield losses due to weeds and rodents too. These factors substantially undermine India’s agricultural productivity, further underscoring the importance of plant disease management.\\nPlant disease management\\nCommon crop diseases like rust, blight, blast, powdery mildew, smut can be prevented by effective plant disease management. These methods encompass a diverse array of techniques and strategies aimed at minimising damage from pests, diseases, weeds, and other environmental factors.\\nScientific management of common crop diseases has become even more important with increasing demand for organically produced food, conservation of biodiversity, unpolluted environment and sustainable agriculture.'), Document(id='0ac1ca17-426b-40dd-b3f2-2e0d62d6870d', metadata={'source': 'https://kshema.co/blogs/common-crop-diseases-and-how-to-prevent-them/'}, page_content='Fungi cause widespread plant diseases which extract a huge economic cost. Fungi mainly infects plans through wounds, stomata and water pores. Wind also plays a part by spreading fungal spores.\\nPlant disease management is varied in the case of fungi. Crop disease control methods include destroying plant matter containing the pathogen, using healthy seeds, regular crop rotation and using chemical and biological fungicides.\\nViral diseases\\nViruses and viroids affect plants at a smaller scale, but agricultural diseases caused by them are difficult to contain. Virus-infected plants are almost impossible to save. Viral infections usually spread through the contact of sick plants with healthy plants, through soil apart from vegetative reproduction. Seeds, pollen and insects are also carriers of common crop diseases caused by viruses.')], 'answer': 'Rice blast disease is a devastating fungal disease that affects rice crops worldwide, causing significant yield losses and economic damage. It is caused by the fungus Magnaporthe oryzae, which infects rice plants at various stages of growth. The disease is also known as rice blast or Magnaporthe blast.\\n\\n**Symptoms of Rice Blast Disease:**\\n\\nThe symptoms of rice blast disease can vary depending on the stage of plant growth, environmental conditions, and the severity of the infection. Here are some common symptoms of rice blast disease:\\n\\n1. **Leaf Blast:** The disease typically starts with the appearance of small, elliptical or diamond-shaped lesions on the leaves, usually on the lower leaves. These lesions are initially grayish-green, but turn white or gray with a brown border as they mature. The lesions can merge to form larger patches, causing the leaves to wither and die.\\n2. **Node Blast:** As the disease progresses, the fungus can infect the nodes of the plant, causing them to become swollen and discolored. This can lead to the formation of large, blackened lesions that can girdle the stem, causing the plant to break or lodge.\\n3. **Panicle Blast:** The disease can also infect the panicles (flowering heads) of the plant, causing the grains to become discolored, shriveled, or deformed. This can result in reduced grain yield and quality.\\n4. **Collar Blast:** In some cases, the fungus can infect the collar region of the plant, causing a rotting or softening of the tissue. This can lead to the formation of a lesion that can girdle the stem, causing the plant to break or die.\\n5. **Root Blast:** The disease can also infect the roots of the plant, causing them to become discolored, rotting, or softening. This can lead to reduced water and nutrient uptake, causing the plant to become stunted or die.\\n\\n**Other Symptoms:**\\n\\n* **Yellowing or Wilting:** Infected plants may exhibit yellowing or wilting of the leaves, especially during periods of high temperature or drought stress.\\n* **Reduced Tillering:** Infected plants may produce fewer tillers (shoots) than healthy plants, leading to reduced grain yield.\\n* **Grain Discoloration:** Infected grains may become discolored, shriveled, or deformed, reducing their quality and market value.\\n\\n**Factors Favoring Rice Blast Disease:**\\n\\n* **High Temperature:** Temperatures between 25°C to 30°C favor the growth and development of the fungus.\\n* **High Humidity:** High humidity, especially during the night, favors the development of the disease.\\n* **Rainfall:** Excessive rainfall or irrigation can create conditions that favor the growth and spread of the fungus.\\n* **Poor Soil Drainage:** Waterlogged soils can increase the risk of root blast and other symptoms.\\n\\n**Management of Rice Blast Disease:**\\n\\nTo manage rice blast disease, farmers can use a combination of cultural, chemical, and biological control methods, including:\\n\\n* **Resistant Varieties:** Planting resistant or tolerant varieties can help reduce the risk of infection.\\n* **Crop Rotation:** Rotating rice with other crops can help break the disease cycle.\\n* **Sanitation:** Removing infected plant debris and weeds can help reduce the source of inoculum.\\n* **Fungicides:** Applying fungicides at the right time can help control the disease.\\n* **Integrated Pest Management (IPM):** Using a combination of cultural, chemical, and biological control methods can help manage the disease and reduce the risk of pesticide resistance.\\n\\nOverall, rice blast disease is a significant threat to rice production worldwide, and its management requires a comprehensive approach that includes resistant varieties, cultural practices, and integrated pest management strategies.'}\u001b[0m\n",
      "Thought:\u001b[32;1m\u001b[1;3mI now have the necessary information about the symptoms of rice blast disease from the CropDocs tool. \n",
      "\n",
      "The symptoms of rice blast disease include:\n",
      "1. Leaf Blast: Small, elliptical or diamond-shaped lesions on the leaves, usually on the lower leaves.\n",
      "2. Node Blast: Swollen and discolored nodes, leading to large, blackened lesions that can girdle the stem.\n",
      "3. Panicle Blast: Discolored, shriveled, or deformed grains, resulting in reduced grain yield and quality.\n",
      "4. Collar Blast: Rotting or softening of the tissue in the collar region, leading to a lesion that can girdle the stem.\n",
      "5. Root Blast: Discolored, rotting, or softening roots, reducing water and nutrient uptake.\n",
      "\n",
      "Additionally, infected plants may exhibit yellowing or wilting of the leaves, reduced tillering, and grain discoloration.\n",
      "\n",
      "Final Answer: The symptoms of rice blast disease include leaf blast, node blast, panicle blast, collar blast, and root blast, as well as yellowing or wilting of the leaves, reduced tillering, and grain discoloration.\u001b[0m\n",
      "\n",
      "\u001b[1m> Finished chain.\u001b[0m\n",
      "The symptoms of rice blast disease include leaf blast, node blast, panicle blast, collar blast, and root blast, as well as yellowing or wilting of the leaves, reduced tillering, and grain discoloration.\n"
     ]
    }
   ],
   "source": [
    "print(agent.run(\"What are the symptoms of rice blast disease?\"))"
   ]
  },
  {
   "cell_type": "code",
   "execution_count": 16,
   "id": "f02be597",
   "metadata": {},
   "outputs": [
    {
     "name": "stdout",
     "output_type": "stream",
     "text": [
      "\n",
      "\n",
      "\u001b[1m> Entering new AgentExecutor chain...\u001b[0m\n",
      "\u001b[32;1m\u001b[1;3mTo answer this question, I need to find information about the best fertilizer for rice. Since this is a farming-related question, I should search for information in a database that specializes in farming and crop diseases.\n",
      "\n",
      "Action: CropDocs\n",
      "Action Input: best fertilizer for rice\u001b[0m\n",
      "Observation: \u001b[36;1m\u001b[1;3m{'input': 'best fertilizer for rice', 'context': [Document(id='5bba2605-e36e-451b-86a8-3f8c658416b6', metadata={'source': 'https://krikso.co.in/pest-and-disease-management-protecting-your-crops-effectively/'}, page_content='Crop Nutrition: Essential Fertilizers for Maximum Yield.Harvesting and Post-Harvest Management: Maximizing Your Yield.'), Document(id='64d2b76b-a991-4178-99d8-8dab86915ba2', metadata={'source': 'https://kshema.co/blogs/common-crop-diseases-and-how-to-prevent-them/'}, page_content='India has made tremendous strides in food-grain production from 82 million tonnes in 1960-61 to 271.37 million tonnes in 2018-19. It further increased to 329.7 million tonnes in 2022-23 with agricultural exports exceeding Rs 4 lakh crore (US$ 53 B). India has the second-largest agricultural land in the world with the sector providing livelihood for nearly half of the nation’s population, contributing to about 18% of India’s GDP.\\nLosses due to crop diseases and pests\\nHowever, agriculture as an activity, is reliant on variables, which are often outside the control of the farmer. Climate change and erratic weather patterns, soil, water, common diseases, pests affect the crops as well as the post-harvest stock, leading to losses.'), Document(id='7774f8d8-bf74-404b-8ecf-cc81f089b1e1', metadata={'source': 'https://kshema.co/blogs/common-crop-diseases-and-how-to-prevent-them/'}, page_content='Most common crop diseases caused by bacteria, fungi, nematodes, and virus need focused approach to contain the damage and save crops.\\nBacterial diseases \\nBlights and wilts are examples of bacterial common crop diseases. These affect plants when bacteria get into the culture’s tissue through damaged areas caused by agricultural tools, insects or unfavourable weather conditions. Infections may also occur when bacteria use natural holes or glands of plants.\\nBacterial diseases spread fast and treating the affected area is complicated since the infection is internal and therefore not exposed to chemicals. Preventive measures include using pathogen-free seeds, hot water for seed treatment, soil solarisation or using germicidal compound of seeds.\\nFungal diseases\\nFungi cause widespread plant diseases which extract a huge economic cost. Fungi mainly infects plans through wounds, stomata and water pores. Wind also plays a part by spreading fungal spores.')], 'answer': 'Rice is one of the most widely consumed staple crops globally, and India is the second-largest producer of rice. To achieve maximum yield and quality, fertilization plays a crucial role in rice cultivation. The best fertilizer for rice depends on several factors, including the type of soil, climate, and growth stage of the crop.\\n\\n**Essential Nutrients for Rice:**\\n\\nRice requires a balanced diet of nutrients to grow healthy and produce a high yield. The essential nutrients for rice are:\\n\\n1. **Nitrogen (N):** Nitrogen is the most critical nutrient for rice, as it promotes vegetative growth, leaf development, and grain formation. A deficiency in nitrogen can lead to stunted growth, yellowing of leaves, and reduced yield.\\n2. **Phosphorus (P):** Phosphorus is essential for root development, plant maturation, and grain formation. It also helps in the production of flowers and seeds.\\n3. **Potassium (K):** Potassium helps in the overall growth and development of the plant, including root growth, water balance, and resistance to disease.\\n4. **Sulfur (S):** Sulfur is necessary for the production of amino acids, which are the building blocks of proteins.\\n5. **Micronutrients:** Micronutrients like zinc, iron, and manganese are also essential for rice growth, as they play a crucial role in various physiological processes.\\n\\n**Recommended Fertilizers for Rice:**\\n\\nBased on the nutrient requirements of rice, the following fertilizers are recommended:\\n\\n1. **Urea (46% N):** Urea is a widely used nitrogenous fertilizer for rice. It is applied at the basal stage (10-15 days after sowing) and at the panicle initiation stage (30-40 days after sowing).\\n2. **Diammonium Phosphate (DAP) (18% N, 46% P):** DAP is a phosphatic fertilizer that provides both nitrogen and phosphorus. It is applied at the basal stage to promote root growth and plant establishment.\\n3. **Muriate of Potash (MOP) (60% K):** MOP is a potassic fertilizer that provides potassium. It is applied at the panicle initiation stage to promote grain formation and maturation.\\n4. **Ammonium Sulfate (21% N, 24% S):** Ammonium sulfate is a sulfur-based fertilizer that provides both nitrogen and sulfur. It is applied at the basal stage to promote root growth and plant establishment.\\n5. **Complex Fertilizers:** Complex fertilizers like NPK (10-20-10) or NPKS (10-20-10-5) are also recommended for rice. These fertilizers provide a balanced mix of nitrogen, phosphorus, potassium, and sulfur.\\n\\n**Fertilizer Application Schedule:**\\n\\nThe fertilizer application schedule for rice varies depending on the growth stage of the crop. A general guideline is as follows:\\n\\n1. **Basal Application:** Apply 50% of the recommended dose of nitrogen, phosphorus, and potassium at 10-15 days after sowing.\\n2. **Top-Dressing:** Apply the remaining 50% of the recommended dose of nitrogen at 30-40 days after sowing.\\n3. **Panicle Initiation:** Apply potassium and sulfur at 40-50 days after sowing to promote grain formation and maturation.\\n\\n**Soil-Specific Fertilizer Recommendations:**\\n\\nThe fertilizer requirements of rice vary depending on the soil type. For example:\\n\\n1. **Acidic Soils:** In acidic soils, sulfur-based fertilizers like ammonium sulfate or elemental sulfur are recommended to reduce soil acidity.\\n2. **Alkaline Soils:** In alkaline soils, phosphatic fertilizers like DAP or single super phosphate are recommended to promote root growth and plant establishment.\\n3. **Saline Soils:** In saline soils, potassium-based fertilizers like MOP or potassium sulfate are recommended to promote plant growth and reduce the adverse effects of salinity.\\n\\nIn conclusion, the best fertilizer for rice depends on the soil type, climate, and growth stage of the crop. A balanced diet of nitrogen, phosphorus, potassium, and sulfur is essential for healthy growth and maximum yield. Farmers should follow the recommended fertilizer application schedule and soil-specific fertilizer recommendations to achieve optimal results.'}\u001b[0m\n",
      "Thought:\u001b[32;1m\u001b[1;3mI now have information about the best fertilizer for rice. The answer provided is quite detailed and explains the essential nutrients required for rice growth, recommended fertilizers, and a fertilizer application schedule. It also provides soil-specific fertilizer recommendations.\n",
      "\n",
      "Thought: I should summarize the key points from the answer to provide a concise final answer.\n",
      "\n",
      "Final Answer: The best fertilizer for rice depends on several factors, including soil type, climate, and growth stage. Essential nutrients for rice include nitrogen, phosphorus, potassium, sulfur, and micronutrients like zinc, iron, and manganese. Recommended fertilizers include urea, diammonium phosphate, muriate of potash, ammonium sulfate, and complex fertilizers like NPK or NPKS. A balanced diet of these nutrients and following a fertilizer application schedule can help achieve maximum yield and quality. Additionally, soil-specific fertilizer recommendations should be considered, such as using sulfur-based fertilizers for acidic soils, phosphatic fertilizers for alkaline soils, and potassium-based fertilizers for saline soils.\u001b[0m\n",
      "\n",
      "\u001b[1m> Finished chain.\u001b[0m\n",
      "The best fertilizer for rice depends on several factors, including soil type, climate, and growth stage. Essential nutrients for rice include nitrogen, phosphorus, potassium, sulfur, and micronutrients like zinc, iron, and manganese. Recommended fertilizers include urea, diammonium phosphate, muriate of potash, ammonium sulfate, and complex fertilizers like NPK or NPKS. A balanced diet of these nutrients and following a fertilizer application schedule can help achieve maximum yield and quality. Additionally, soil-specific fertilizer recommendations should be considered, such as using sulfur-based fertilizers for acidic soils, phosphatic fertilizers for alkaline soils, and potassium-based fertilizers for saline soils.\n"
     ]
    }
   ],
   "source": [
    "print(agent.run(\"And what is the best fertilizer for rice?\"))"
   ]
  },
  {
   "cell_type": "code",
   "execution_count": 17,
   "id": "0640299b",
   "metadata": {},
   "outputs": [
    {
     "name": "stdout",
     "output_type": "stream",
     "text": [
      "\n",
      "\n",
      "\u001b[1m> Entering new AgentExecutor chain...\u001b[0m\n",
      "\u001b[32;1m\u001b[1;3mThought: I don't have any record of our previous conversation about rice blast, so I need to find information about it from a reliable source.\n",
      "\n",
      "Action: CropDocs\n",
      "Action Input: rice blast\u001b[0m\n",
      "Observation: \u001b[36;1m\u001b[1;3m{'input': 'rice blast', 'context': [Document(id='743e38bf-0139-45ad-97e4-38e0be9fbb35', metadata={'source': 'https://kshema.co/blogs/common-crop-diseases-and-how-to-prevent-them/'}, page_content='Request Call Back\\n\\n\\n\\n\\n\\n\\n\\nName\\r\\n        *\\n\\n\\n\\n\\nPhone Number\\r\\n        *\\n\\n\\n\\n\\n\\nEmail\\r\\n        *\\n\\n\\n\\n\\nMessage\\r\\n        *\\n\\n\\n\\n\\n\\n\\nSubmit\\n\\n\\n\\n\\n\\n\\t\\t\\t\\t\\tIf you are human, leave this field blank.\\t\\t\\t\\t\\n\\n\\nBy submitting this form, you agree to be contacted on your phone number or e-mail address by Kshema General Insurance and/or its representatives.\\n\\n\\n\\n\\n\\n\\n\\nRecent Posts\\n\\n\\nPMFBY: The Story of Farmer Wellbeing in India\\n\\n\\nSafe Harvesting Techniques to Protect Crops from Damage\\n\\n\\nKharif Crop Yield: How to Estimate Profitability During the Ongoing Season\\n\\n\\nHeavy Rains Affecting Kharif Crops: 7 Smart Ways to Protect Your Farm\\n\\n\\nHow to Master Paddy Cultivation in India: Climate-Smart Tips & Insurance Guide\\n\\n\\nBy Kshema AdministratorPublished On: 9 August, 2024Other blogs you might like\\nView all blogs'), Document(id='250981ec-08e8-4e8c-b235-ea7882622b34', metadata={'source': 'https://kshema.co/blogs/common-crop-diseases-and-how-to-prevent-them/'}, page_content='How to Master Paddy Cultivation in India: Climate-Smart Tips & Insurance Guide\\n\\n\\nBy Kshema AdministratorPublished On: 9 August, 2024Other blogs you might like\\nView all blogs\\n\\n \\n\\nPMFBY: The Story of Farmer Wellbeing in IndiaHow PMFBY is Protecting Crops and Securing Rural Livelihoods Indian agriculture, the backbone of our nation, has long been a ...Kshema Administrator4 September, 20255 min read Read Now  \\n\\n \\n\\nSafe Harvesting Techniques to Protect Crops from DamageProtecting Your Harvest: Essential Safe Harvesting Techniques for Farmers Harvesting is one of the most critical stages in agriculture. Months ...Kshema Administrator26 August, 20256 min read Read Now  \\n\\n \\n\\nKharif Crop Yield: How to Estimate Profitability During the Ongoing SeasonThe Kharif season, which begins with the arrival of the monsoon, offers farmers the chance to earn well — but ...Kshema Administrator19 August, 20255 min read Read Now'), Document(id='7774f8d8-bf74-404b-8ecf-cc81f089b1e1', metadata={'source': 'https://kshema.co/blogs/common-crop-diseases-and-how-to-prevent-them/'}, page_content='Most common crop diseases caused by bacteria, fungi, nematodes, and virus need focused approach to contain the damage and save crops.\\nBacterial diseases \\nBlights and wilts are examples of bacterial common crop diseases. These affect plants when bacteria get into the culture’s tissue through damaged areas caused by agricultural tools, insects or unfavourable weather conditions. Infections may also occur when bacteria use natural holes or glands of plants.\\nBacterial diseases spread fast and treating the affected area is complicated since the infection is internal and therefore not exposed to chemicals. Preventive measures include using pathogen-free seeds, hot water for seed treatment, soil solarisation or using germicidal compound of seeds.\\nFungal diseases\\nFungi cause widespread plant diseases which extract a huge economic cost. Fungi mainly infects plans through wounds, stomata and water pores. Wind also plays a part by spreading fungal spores.')], 'answer': 'Rice blast is a devastating fungal disease that affects rice crops worldwide, causing significant yield losses and economic damage. It is one of the most common and destructive diseases of rice, and its management is crucial for ensuring food security and sustainability in rice production.\\n\\n**Cause of Rice Blast:**\\nRice blast is caused by the fungus Magnaporthe oryzae (formerly known as Pyricularia oryzae). This fungus is a hemibiotroph, meaning it derives nutrients from both living and dead plant tissue. The fungus infects rice plants through wounds, stomata, and other natural openings, and can also be spread through wind-borne spores.\\n\\n**Symptoms of Rice Blast:**\\nThe symptoms of rice blast can vary depending on the stage of plant growth and the severity of the infection. Common symptoms include:\\n\\n1. **Leaf blast:** Small, diamond-shaped lesions with gray or white centers and dark brown borders appear on the leaves. These lesions can merge to form larger, irregularly shaped patches.\\n2. **Node blast:** The fungus infects the nodes, causing the plant to become stunted and discolored.\\n3. **Panicle blast:** The fungus infects the panicles, causing them to become discolored, twisted, and sterile.\\n4. **Neck blast:** The fungus infects the neck of the panicle, causing it to become discolored and brittle.\\n\\n**Factors Favoring Rice Blast:**\\nSeveral factors contribute to the development of rice blast, including:\\n\\n1. **Temperature:** Optimal temperatures for fungal growth range from 20°C to 30°C.\\n2. **Humidity:** High humidity (above 80%) favors fungal growth and spore dispersal.\\n3. **Rainfall:** Excessive rainfall can lead to flooding, which can increase the risk of rice blast.\\n4. **Soil moisture:** Soil with high moisture content can favor fungal growth.\\n5. **Cultivar susceptibility:** Some rice varieties are more susceptible to rice blast than others.\\n\\n**Management of Rice Blast:**\\nTo manage rice blast effectively, a combination of cultural, chemical, and biological control methods can be employed. Some of these methods include:\\n\\n1. **Resistant varieties:** Planting resistant or tolerant rice varieties can help reduce the risk of rice blast.\\n2. **Crop rotation:** Rotating rice with other crops can help break the disease cycle.\\n3. **Sanitation:** Removing infected plant debris and weeds can help reduce the risk of disease spread.\\n4. **Fungicides:** Applying fungicides at the right time can help control the disease.\\n5. **Biological control:** Using biological control agents, such as Trichoderma harzianum, can help control the disease.\\n6. **Integrated pest management (IPM):** Implementing IPM strategies that combine cultural, chemical, and biological control methods can help manage rice blast effectively.\\n\\n**Chemical Control:**\\nFungicides can be used to control rice blast, but their use should be judicious and based on the disease severity and stage of plant growth. Some commonly used fungicides for rice blast control include:\\n\\n1. **Azoxystrobin:** A systemic fungicide that can be applied as a foliar spray or seed treatment.\\n2. **Tricyclazole:** A systemic fungicide that can be applied as a foliar spray.\\n3. **Propiconazole:** A systemic fungicide that can be applied as a foliar spray.\\n\\n**Biological Control:**\\nBiological control agents, such as Trichoderma harzianum, can be used to control rice blast. These agents can be applied as a seed treatment or foliar spray, and can help reduce the risk of disease spread.\\n\\n**Cultural Control:**\\nCultural control methods, such as crop rotation, sanitation, and irrigation management, can help reduce the risk of rice blast. These methods can be combined with chemical and biological control methods to manage the disease effectively.\\n\\nIn conclusion, rice blast is a devastating disease that can cause significant yield losses and economic damage in rice crops. A combination of cultural, chemical, and biological control methods can be employed to manage the disease effectively. Understanding the cause, symptoms, and factors favoring rice blast is crucial for developing effective management strategies. By adopting integrated pest management (IPM) approaches, rice farmers can reduce the risk of rice blast and ensure sustainable rice production.'}\u001b[0m\n",
      "Thought:\u001b[32;1m\u001b[1;3mI have found a detailed description of rice blast, including its cause, symptoms, and management strategies. \n",
      "\n",
      "Action: None\n",
      "Action Input: None\u001b[0m\n",
      "Observation: None is not a valid tool, try one of [CropDocs, wikipedia, Calculator].\n",
      "Thought:\u001b[32;1m\u001b[1;3mIt seems like I've already found the information I need about rice blast. Since I have all the necessary details, I don't need to perform any further actions.\n",
      "\n",
      "Thought: I now know the final answer\n",
      "Final Answer: Rice blast is a devastating fungal disease that affects rice crops worldwide, causing significant yield losses and economic damage. It is caused by the fungus Magnaporthe oryzae and can be managed through a combination of cultural, chemical, and biological control methods, including planting resistant varieties, crop rotation, sanitation, fungicides, and biological control agents. Understanding the cause, symptoms, and factors favoring rice blast is crucial for developing effective management strategies.\u001b[0m\n",
      "\n",
      "\u001b[1m> Finished chain.\u001b[0m\n",
      "Rice blast is a devastating fungal disease that affects rice crops worldwide, causing significant yield losses and economic damage. It is caused by the fungus Magnaporthe oryzae and can be managed through a combination of cultural, chemical, and biological control methods, including planting resistant varieties, crop rotation, sanitation, fungicides, and biological control agents. Understanding the cause, symptoms, and factors favoring rice blast is crucial for developing effective management strategies.\n"
     ]
    }
   ],
   "source": [
    "print(agent.run(\"Remind me what we discussed about rice blast earlier.\"))"
   ]
  },
  {
   "cell_type": "code",
   "execution_count": null,
   "id": "fe3f1ddb",
   "metadata": {},
   "outputs": [],
   "source": []
  }
 ],
 "metadata": {
  "kernelspec": {
   "display_name": "Python 3",
   "language": "python",
   "name": "python3"
  },
  "language_info": {
   "codemirror_mode": {
    "name": "ipython",
    "version": 3
   },
   "file_extension": ".py",
   "mimetype": "text/x-python",
   "name": "python",
   "nbconvert_exporter": "python",
   "pygments_lexer": "ipython3",
   "version": "3.10.0"
  }
 },
 "nbformat": 4,
 "nbformat_minor": 5
}
